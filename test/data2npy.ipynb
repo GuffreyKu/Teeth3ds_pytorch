{
 "cells": [
  {
   "cell_type": "code",
   "execution_count": 1,
   "metadata": {},
   "outputs": [],
   "source": [
    "import numpy as np\n",
    "import os\n",
    "import pandas as pd\n",
    "import fpsample"
   ]
  },
  {
   "cell_type": "code",
   "execution_count": 2,
   "metadata": {},
   "outputs": [],
   "source": [
    "def collect_data(path):\n",
    "    csv_datas = pd.read_csv(path)[\"path\"].to_list()\n",
    "    # csv_datas = sorted(csv_datas)\n",
    "    # random.shuffle(csv_datas)\n",
    "    return csv_datas"
   ]
  },
  {
   "cell_type": "code",
   "execution_count": 3,
   "metadata": {},
   "outputs": [],
   "source": [
    "def collect_npy(path):\n",
    "    npy_datas = os.listdir(path)\n",
    "    # random.shuffle(npy_datas)\n",
    "    return npy_datas"
   ]
  },
  {
   "cell_type": "code",
   "execution_count": 4,
   "metadata": {},
   "outputs": [],
   "source": [
    "csv_datas = collect_data(\"part_teeth/data_14_train.csv\")"
   ]
  },
  {
   "cell_type": "code",
   "execution_count": 5,
   "metadata": {},
   "outputs": [],
   "source": [
    "root_path = \"/Volumes/Data/pointnet/\"\n",
    "n_point = 1024\n",
    "\n",
    "for index in range(len(csv_datas)):\n",
    "\n",
    "    data = pd.read_csv(root_path + csv_datas[index])\n",
    "    points = data[['x', 'y', 'z']].values\n",
    "    label = data['label'].values\n",
    "\n",
    "    idx = fpsample.bucket_fps_kdline_sampling(points, n_point, h=9)\n",
    "    idx = [int(x) for x in idx]\n",
    "\n",
    "    labeled = label[idx].astype(int)\n",
    "    points = points[idx].astype(np.float32)\n",
    "\n",
    "    name = csv_datas[index].split(\"/\")[-1].split(\".\")[0]\n",
    "    npy_path = root_path + \"part_teeth/train_low_npy/\" + name + \".npy\"\n",
    "\n",
    "    with open(npy_path, 'wb') as f:\n",
    "        np.save(f, points)\n",
    "        np.save(f, labeled)"
   ]
  }
 ],
 "metadata": {
  "kernelspec": {
   "display_name": "torch",
   "language": "python",
   "name": "python3"
  },
  "language_info": {
   "codemirror_mode": {
    "name": "ipython",
    "version": 3
   },
   "file_extension": ".py",
   "mimetype": "text/x-python",
   "name": "python",
   "nbconvert_exporter": "python",
   "pygments_lexer": "ipython3",
   "version": "3.10.13"
  }
 },
 "nbformat": 4,
 "nbformat_minor": 2
}
